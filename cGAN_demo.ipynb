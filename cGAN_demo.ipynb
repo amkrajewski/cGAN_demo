{
 "cells": [
  {
   "cell_type": "code",
   "execution_count": 6,
   "metadata": {
    "ExecuteTime": {
     "start_time": "2023-04-10T14:54:27.018430Z",
     "end_time": "2023-04-10T14:54:27.021153Z"
    }
   },
   "outputs": [],
   "source": [
    "import torch\n",
    "import numpy as np\n",
    "import pandas as pd\n",
    "import json\n",
    "from ipywidgets import FloatSlider, Button, HBox, VBox, Output, Layout\n",
    "from IPython.display import clear_output\n",
    "from modules.cGAN_samplers import noise_sampler\n",
    "from modules.functions import decode, calculate_entropy_mixing\n",
    "from joblib import load\n",
    "import plotly.graph_objects as go\n",
    "import plotly.express as px\n",
    "from pymatgen.core import Composition"
   ]
  },
  {
   "cell_type": "code",
   "execution_count": 2,
   "metadata": {
    "ExecuteTime": {
     "start_time": "2023-04-10T14:53:04.403999Z",
     "end_time": "2023-04-10T14:53:04.433866Z"
    }
   },
   "outputs": [
    {
     "name": "stderr",
     "output_type": "stream",
     "text": [
      "/Users/adam/opt/anaconda3/envs/ultera/lib/python3.10/site-packages/sklearn/base.py:318: UserWarning: Trying to unpickle estimator QuantileTransformer from version 1.2.1 when using version 1.2.2. This might lead to breaking code or invalid results. Use at your own risk. For more info please refer to:\n",
      "https://scikit-learn.org/stable/model_persistence.html#security-maintainability-limitations\n",
      "  warnings.warn(\n",
      "/Users/adam/opt/anaconda3/envs/ultera/lib/python3.10/site-packages/sklearn/base.py:318: UserWarning: Trying to unpickle estimator KernelDensity from version 1.2.1 when using version 1.2.2. This might lead to breaking code or invalid results. Use at your own risk. For more info please refer to:\n",
      "https://scikit-learn.org/stable/model_persistence.html#security-maintainability-limitations\n",
      "  warnings.warn(\n",
      "/Users/adam/opt/anaconda3/envs/ultera/lib/python3.10/site-packages/sklearn/base.py:318: UserWarning: Trying to unpickle estimator Pipeline from version 1.2.1 when using version 1.2.2. This might lead to breaking code or invalid results. Use at your own risk. For more info please refer to:\n",
      "https://scikit-learn.org/stable/model_persistence.html#security-maintainability-limitations\n",
      "  warnings.warn(\n",
      "/Users/adam/opt/anaconda3/envs/ultera/lib/python3.10/site-packages/sklearn/base.py:318: UserWarning: Trying to unpickle estimator MinMaxScaler from version 1.2.1 when using version 1.2.2. This might lead to breaking code or invalid results. Use at your own risk. For more info please refer to:\n",
      "https://scikit-learn.org/stable/model_persistence.html#security-maintainability-limitations\n",
      "  warnings.warn(\n"
     ]
    }
   ],
   "source": [
    "model = torch.jit.load('saved_cGAN/generator.pt',map_location='cpu')\n",
    "with open('saved_cGAN/gan_hyperparameters.json','r') as fid:\n",
    "    gan_hyperparameters = json.load(fid)\n",
    "selected_props = gan_hyperparameters['selected_props']\n",
    "latent_dim = gan_hyperparameters['latent_dim']\n",
    "prop_dim = gan_hyperparameters['prop_dim']\n",
    "elem_list = gan_hyperparameters['elem_list']\n",
    "\n",
    "scaler_pipe = load('saved_cGAN/scale_kde_pipe.joblib')\n",
    "scaler_minmax = load('saved_cGAN/min_max_scaler.joblib')\n",
    "\n",
    "demo_df = pd.read_csv('dataset/demo_dataset_true.csv',index_col=0)\n",
    "dict_of_props = {}\n",
    "\n",
    "units_dict = {'delta_S' : '- DELTA_S/R', \n",
    "              'd_param' : 'D PARAMETER',\n",
    "              'price' : 'PRICE ($/kg)',\n",
    "              'FT' : 'FT (MPa/m^0.5)',\n",
    "              'density' : 'DENSITY (g/cm^3)',\n",
    "              'hardness' : 'HARDNESS (GPa)',\n",
    "              'uts1200C' : 'UTS@1200C (GPa)'}\n",
    "\n",
    "style = {'description_width': 'initial', 'font_variant':\"small-caps\"}\n",
    "\n",
    "for p in selected_props:\n",
    "    vals = demo_df.loc[:,p].values\n",
    "    dict_of_props[units_dict[p]] = {'min':np.round(np.min(vals),2),\n",
    "                        'max':np.round(np.max(vals),2),\n",
    "                        'value':np.round((np.min(vals)+np.max(vals))/2,2),\n",
    "                        'step':0.01,\n",
    "                        'description':units_dict[p],\n",
    "                        'style' : style\n",
    "                        }\n",
    "\n",
    "colors = colors = px.colors.qualitative.Alphabet"
   ]
  },
  {
   "cell_type": "code",
   "execution_count": 9,
   "metadata": {
    "ExecuteTime": {
     "start_time": "2023-04-10T14:57:15.173161Z",
     "end_time": "2023-04-10T14:57:15.174478Z"
    }
   },
   "outputs": [],
   "source": [
    "def generate_alloy(prop_arr):\n",
    "    input_data = np.array(prop_arr).reshape(1,-1).astype('float32')\n",
    "    scaled_input = torch.from_numpy(scaler_pipe['Scaler'].transform(input_data))\n",
    "    noise = torch.from_numpy(noise_sampler(1,latent_dim))\n",
    "    with torch.no_grad():\n",
    "        generated = model(noise,scaled_input).numpy()\n",
    "    composition = decode(generated[0], elem_list)\n",
    "    dict_generated = {\n",
    "        'Composition':Composition({\n",
    "            el: frac*100 for el, frac in composition.as_dict().items()}).__str__(),\n",
    "            'composition_arr':generated[0]}\n",
    "    for i,prop in enumerate(selected_props):\n",
    "        if prop == 'delta_S':\n",
    "            dict_generated[prop] = calculate_entropy_mixing(composition).item()\n",
    "        else:\n",
    "            model_surrogate = load(f'saved_surrogates/surrogate_{prop}.joblib')\n",
    "            dict_generated[prop] = model_surrogate.predict(generated).item()\n",
    "    return dict_generated\n",
    "\n",
    "class record():\n",
    "    def __init__(self):\n",
    "        self.objects = [FloatSlider(**params) for params in dict_of_props.values()]\n",
    "        self.reset_button = Button(description='Reset',disabled=False,button_style='',tooltip='Reset the slider values')\n",
    "        self.reset_button.on_click(self.on_reset_button_clicked)\n",
    "        self.generate_button = Button(description='Generate',disabled=False,button_style='',tooltip='Generate HEA composition with selected conditions')\n",
    "        self.generate_button.on_click(self.on_generate_button_clicked)\n",
    "        self.output = Output()\n",
    "        self.prop_output = Output()\n",
    "        controls_one = VBox([*self.objects[:3]])\n",
    "        controls_two = VBox([*self.objects[3:]])\n",
    "        controls = HBox([controls_one, controls_two])\n",
    "        buttons = HBox([self.reset_button, self.generate_button])\n",
    "        outputs = HBox([self.output,self.prop_output])\n",
    "        display(VBox([controls,buttons, outputs]))\n",
    "        self.fig = go.Figure()\n",
    "        self.prop_fig = go.Figure()\n",
    "        self.df = pd.DataFrame(columns=demo_df.columns)\n",
    "    \n",
    "\n",
    "    def on_generate_button_clicked(self,b):\n",
    "        arr = np.zeros(len(self.objects))\n",
    "        for i,sl in enumerate(self.objects):\n",
    "            arr[i] = sl.value\n",
    "        data = generate_alloy(arr)\n",
    "        self.df.loc[len(self.df)]=data\n",
    "\n",
    "        compositionString = ' '.join([f'{el}{round(Composition(data[\"Composition\"]).as_dict()[el]):<2}' if el in Composition(data['Composition']).as_dict() else '    ' for el in elem_list])\n",
    "        #composition\n",
    "        with self.output:\n",
    "\n",
    "            clear_output(True)\n",
    "            self.fig.add_trace(go.Scatterpolar(\n",
    "            r=data['composition_arr'],\n",
    "            theta=elem_list,\n",
    "            name=compositionString,\n",
    "            fill='toself',\n",
    "            showlegend = True\n",
    "                ))\n",
    "\n",
    "            self.fig.update_layout(\n",
    "                width = 500,\n",
    "                height = 600,\n",
    "                legend=dict(\n",
    "                  orientation = \"h\",\n",
    "                  yanchor=\"bottom\",\n",
    "                  y=-1.1,\n",
    "                  xanchor=\"left\",\n",
    "                  x=0),\n",
    "                font=dict(\n",
    "                family=\"Courier New, monospace\",\n",
    "                size=14,\n",
    "                color=\"Black\"\n",
    "            ),\n",
    "            title={\n",
    "        'text': \"Composition\",\n",
    "        'y':0.9,\n",
    "        'x':0.5,\n",
    "        'xanchor': 'center',\n",
    "        'yanchor': 'top'})\n",
    "            names = set()\n",
    "            self.fig.for_each_trace(lambda trace:trace.update(showlegend=False) if (trace.name in names) else names.add(trace.name))\n",
    "            self.fig.show()\n",
    "\n",
    "        #properties\n",
    "        with self.prop_output:\n",
    "            clear_output(True)\n",
    "            vals_scaled = scaler_minmax.transform(self.df.iloc[:,1:].values.reshape(-1, len(selected_props)))\n",
    "            self.prop_fig.data = []\n",
    "            for i in range(self.df.shape[0]):\n",
    "\n",
    "                self.prop_fig.add_trace(go.Scatterpolar(\n",
    "                r=vals_scaled[i],\n",
    "                theta=selected_props,\n",
    "                fill='toself',\n",
    "                opacity=0.75,\n",
    "                showlegend = False,\n",
    "                hovertext=[f'Value: {str(np.round(x,2))}' for x in self.df.iloc[i,1:].values]\n",
    "                ))\n",
    "\n",
    "            self.prop_fig.update_layout(\n",
    "            width = 400,\n",
    "            height = 400,\n",
    "            legend=dict(\n",
    "                  orientation = \"h\",\n",
    "                  yanchor=\"bottom\",\n",
    "                  y=-1.1,\n",
    "                  xanchor=\"left\",\n",
    "                  x=0),\n",
    "                font=dict(\n",
    "                family=\"Courier New, monospace\",\n",
    "                size=14,\n",
    "                color=\"Black\"\n",
    "            ),\n",
    "            title={\n",
    "                'text': \"Property (Scaled)\",\n",
    "                'y':0.85,\n",
    "                'x':0.5,\n",
    "                'xanchor': 'center',\n",
    "                'yanchor': 'top',\n",
    "                })\n",
    "            names = set()\n",
    "            self.prop_fig.for_each_trace(lambda trace:trace.update(showlegend=False) if (trace.name in names) else names.add(trace.name))\n",
    "            self.prop_fig.show()\n",
    "\n",
    "    def on_reset_button_clicked(self,b):\n",
    "        for slider in self.objects:\n",
    "            slider.value = dict_of_props[slider.description]['value']\n",
    "        self.df.drop(self.df.index, inplace=True)\n",
    "        with self.output:\n",
    "            clear_output()\n",
    "        with self.prop_output:\n",
    "            clear_output()\n",
    "        self.fig.data = []\n",
    "        self.prop_fig.data = []"
   ]
  },
  {
   "cell_type": "code",
   "execution_count": 10,
   "metadata": {
    "ExecuteTime": {
     "start_time": "2023-04-10T14:57:15.525704Z",
     "end_time": "2023-04-10T14:57:15.533746Z"
    }
   },
   "outputs": [
    {
     "data": {
      "text/plain": "VBox(children=(HBox(children=(VBox(children=(FloatSlider(value=-1.03, description='- DELTA_S/R', max=-0.28, mi…",
      "application/vnd.jupyter.widget-view+json": {
       "version_major": 2,
       "version_minor": 0,
       "model_id": "866cdab2527840658a692c6f774a59e8"
      }
     },
     "metadata": {},
     "output_type": "display_data"
    },
    {
     "data": {
      "text/plain": "<__main__.record at 0x2b8dd7b80>"
     },
     "execution_count": 10,
     "metadata": {},
     "output_type": "execute_result"
    }
   ],
   "source": [
    "record()"
   ]
  },
  {
   "cell_type": "code",
   "execution_count": 4,
   "metadata": {
    "ExecuteTime": {
     "start_time": "2023-04-10T14:53:00.608456Z",
     "end_time": "2023-04-10T14:53:04.472083Z"
    }
   },
   "outputs": [],
   "source": []
  },
  {
   "cell_type": "code",
   "execution_count": null,
   "outputs": [],
   "source": [],
   "metadata": {
    "collapsed": false
   }
  }
 ],
 "metadata": {
  "kernelspec": {
   "display_name": "Python 3",
   "language": "python",
   "name": "python3"
  },
  "language_info": {
   "codemirror_mode": {
    "name": "ipython",
    "version": 3
   },
   "file_extension": ".py",
   "mimetype": "text/x-python",
   "name": "python",
   "nbconvert_exporter": "python",
   "pygments_lexer": "ipython3",
   "version": "3.10.9"
  },
  "orig_nbformat": 4,
  "vscode": {
   "interpreter": {
    "hash": "1b0dbc48a483a77f6ac4bd7102c3cb6b89cd0e9716af2ce3a2d8ee940628ce1f"
   }
  }
 },
 "nbformat": 4,
 "nbformat_minor": 2
}
