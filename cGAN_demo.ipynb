{
 "cells": [
  {
   "cell_type": "code",
   "execution_count": 1,
   "metadata": {
    "ExecuteTime": {
     "end_time": "2023-05-11T18:51:51.256386Z",
     "start_time": "2023-05-11T18:51:51.214992Z"
    }
   },
   "outputs": [],
   "source": [
    "import torch\n",
    "import numpy as np\n",
    "import pandas as pd\n",
    "import json\n",
    "from ipywidgets import FloatSlider, Button, HBox, VBox, Output\n",
    "from IPython.display import clear_output\n",
    "from heagan.tools.cGAN_samplers import noise_sampler\n",
    "from heagan.tools.functions import decode, calculate_entropy_mixing\n",
    "from joblib import load\n",
    "import plotly.graph_objects as go\n",
    "import plotly.express as px\n",
    "from pymatgen.core import Composition\n",
    "from importlib import resources\n",
    "import onnxruntime"
   ]
  },
  {
   "cell_type": "code",
   "execution_count": 2,
   "metadata": {
    "ExecuteTime": {
     "end_time": "2023-05-11T18:52:57.035478Z",
     "start_time": "2023-05-11T18:52:57.004415Z"
    }
   },
   "outputs": [],
   "source": [
    "with resources.files('heagan.saved_cGAN').joinpath('generator.pt') as fname:\n",
    "    model = torch.jit.load(fname,map_location='cpu')\n",
    "with resources.files('heagan.saved_cGAN').joinpath('gan_hyperparameters.json').open('r') as f:\n",
    "    gan_hyperparameters = json.load(f)\n",
    "\n",
    "selected_props = gan_hyperparameters['selected_props']\n",
    "latent_dim = gan_hyperparameters['latent_dim']\n",
    "prop_dim = gan_hyperparameters['prop_dim']\n",
    "elem_list = gan_hyperparameters['elem_list']"
   ]
  },
  {
   "cell_type": "code",
   "execution_count": 3,
   "metadata": {
    "ExecuteTime": {
     "end_time": "2023-05-11T18:54:06.450612Z",
     "start_time": "2023-05-11T18:54:06.446617Z"
    }
   },
   "outputs": [],
   "source": [
    "with resources.files('heagan.saved_cGAN').joinpath('scale_kde_pipe.joblib') as fname:\n",
    "    scaler_pipe = load(fname)\n",
    "#with resources.files('heagan.saved_cGAN').joinpath('min_max_scaler.joblib') as fname:\n",
    "#    scaler_minmax = load(fname)"
   ]
  },
  {
   "cell_type": "code",
   "execution_count": 4,
   "metadata": {
    "ExecuteTime": {
     "end_time": "2023-05-11T18:54:53.794447Z",
     "start_time": "2023-05-11T18:54:53.775231Z"
    }
   },
   "outputs": [],
   "source": [
    "with resources.files('heagan.dataset').joinpath('demo_dataset_true.csv') as fname:\n",
    "    demo_df = pd.read_csv(fname,index_col=0)\n",
    "\n",
    "dict_of_props = {}\n",
    "\n",
    "units_dict = {'delta_S' : '- DELTA_S/R',\n",
    "              'd_param' : 'D PARAMETER',\n",
    "              'price' : 'PRICE ($/kg)',\n",
    "              'FT' : 'FT (MPa/m^0.5)',\n",
    "              'density' : 'DENSITY (g/cm^3)',\n",
    "              'hardness' : 'HARDNESS (GPa)',\n",
    "              'uts1200C' : 'UTS@1200C (GPa)'}\n",
    "\n",
    "style = {'description_width': 'initial', 'font_variant':\"small-caps\"}\n",
    "\n",
    "for p in selected_props:\n",
    "    vals = demo_df.loc[:,p].values\n",
    "    dict_of_props[units_dict[p]] = {'min':np.round(np.min(vals),2),\n",
    "                        'max':np.round(np.max(vals),2),\n",
    "                        'value':np.round((np.min(vals)+np.max(vals))/2,2),\n",
    "                        'step':0.01,\n",
    "                        'description':units_dict[p],\n",
    "                        'style' : style\n",
    "                        }\n",
    "\n",
    "colors = px.colors.qualitative.Alphabet"
   ]
  },
  {
   "cell_type": "code",
   "execution_count": 8,
   "metadata": {
    "ExecuteTime": {
     "end_time": "2023-05-11T18:55:43.757753Z",
     "start_time": "2023-05-11T18:55:43.753770Z"
    }
   },
   "outputs": [],
   "source": [
    "def generate_alloy(prop_arr):\n",
    "    input_data = np.array(prop_arr).reshape(1,-1).astype('float32')\n",
    "    scaled_input = torch.from_numpy(scaler_pipe['Scaler'].transform(input_data))\n",
    "    noise = torch.from_numpy(noise_sampler(1,latent_dim))\n",
    "    with torch.no_grad():\n",
    "        generated = model(noise,scaled_input).numpy()\n",
    "    composition = decode(generated[0], elem_list)\n",
    "    dict_generated = {\n",
    "        'Composition':Composition({\n",
    "            el: frac*100 for el, frac in composition.as_dict().items()}).__str__(),\n",
    "            'composition_arr':generated[0]}\n",
    "    for i,prop in enumerate(selected_props):\n",
    "        if prop == 'delta_S':\n",
    "            dict_generated[prop] = calculate_entropy_mixing(composition).item()\n",
    "        else:\n",
    "            model_surrogate = load(f'heagan/saved_surrogates/surrogate_{prop}.joblib')\n",
    "            dict_generated[prop] = model_surrogate.predict(generated).item()\n",
    "    return dict_generated\n"
   ]
  },
  {
   "cell_type": "code",
   "execution_count": 9,
   "metadata": {
    "ExecuteTime": {
     "end_time": "2023-05-11T18:57:29.980519Z",
     "start_time": "2023-05-11T18:57:29.978617Z"
    }
   },
   "outputs": [],
   "source": [
    "class Demonstrator:\n",
    "    def __init__(self):\n",
    "        self.objects = [FloatSlider(**params) for params in dict_of_props.values()]\n",
    "        self.reset_button = Button(description='Reset',disabled=False,button_style='',tooltip='Reset the slider values')\n",
    "        self.reset_button.on_click(self.on_reset_button_clicked)\n",
    "        self.generate_button = Button(description='Generate',disabled=False,button_style='',tooltip='Generate HEA composition with selected conditions')\n",
    "        self.generate_button.on_click(self.on_generate_button_clicked)\n",
    "        self.output = Output()\n",
    "        self.prop_output = Output()\n",
    "        controls_one = VBox([*self.objects[:3]])\n",
    "        controls_two = VBox([*self.objects[3:]])\n",
    "        controls = HBox([controls_one, controls_two])\n",
    "        buttons = HBox([self.reset_button, self.generate_button])\n",
    "        outputs = HBox([self.output,self.prop_output])\n",
    "        display(VBox([controls,buttons, outputs]))\n",
    "        self.fig = go.Figure()\n",
    "        self.prop_fig = go.Figure()\n",
    "        self.df = pd.DataFrame(columns=demo_df.columns)\n",
    "        print('initialized')\n",
    "\n",
    "\n",
    "    def on_generate_button_clicked(self,b):\n",
    "        print('generating')\n",
    "        arr = np.zeros(len(self.objects))\n",
    "        for i,sl in enumerate(self.objects):\n",
    "            arr[i] = sl.value\n",
    "        data = generate_alloy(arr)\n",
    "        self.df.loc[len(self.df)]=data\n",
    "\n",
    "        compositionString = ' '.join([f'{el}{round(Composition(data[\"Composition\"]).as_dict()[el]):<2}' if el in Composition(data['Composition']).as_dict() else '    ' for el in elem_list])\n",
    "        #composition\n",
    "        with self.output:\n",
    "\n",
    "            clear_output(True)\n",
    "            self.fig.add_trace(go.Scatterpolar(\n",
    "            r=data['composition_arr'],\n",
    "            theta=elem_list,\n",
    "            name=compositionString,\n",
    "            fill='toself',\n",
    "            opacity=0.75,\n",
    "            showlegend = True\n",
    "                ))\n",
    "\n",
    "            self.fig.update_layout(\n",
    "                width = 500,\n",
    "                height = 600,\n",
    "                legend=dict(\n",
    "                  orientation = \"h\",\n",
    "                  yanchor=\"bottom\",\n",
    "                  y=-1.1,\n",
    "                  xanchor=\"left\",\n",
    "                  x=0),\n",
    "                font=dict(\n",
    "                family=\"Courier New, monospace\",\n",
    "                size=14,\n",
    "                color=\"Black\"\n",
    "            ),\n",
    "            title={\n",
    "        'text': \"Composition\",\n",
    "        'y':0.9,\n",
    "        'x':0.5,\n",
    "        'xanchor': 'center',\n",
    "        'yanchor': 'top'})\n",
    "            names = set()\n",
    "            self.fig.for_each_trace(lambda trace:trace.update(showlegend=False) if (trace.name in names) else names.add(trace.name))\n",
    "            self.fig.show()\n",
    "\n",
    "        #properties\n",
    "        with self.prop_output:\n",
    "            clear_output(True)\n",
    "            vals_scaled = self.df.iloc[:,1:].values.reshape(-1, len(selected_props))\n",
    "            self.prop_fig.data = []\n",
    "            for i in range(self.df.shape[0]):\n",
    "\n",
    "                self.prop_fig.add_trace(go.Scatterpolar(\n",
    "                r=vals_scaled[i],\n",
    "                theta=selected_props,\n",
    "                fill='toself',\n",
    "                opacity=0.75,\n",
    "                showlegend = False,\n",
    "                hovertext=[f'Value: {str(np.round(x,2))}' for x in self.df.iloc[i,1:].values]\n",
    "                ))\n",
    "\n",
    "            self.prop_fig.update_layout(\n",
    "            width = 400,\n",
    "            height = 400,\n",
    "            legend=dict(\n",
    "                  orientation = \"h\",\n",
    "                  yanchor=\"bottom\",\n",
    "                  y=-1.1,\n",
    "                  xanchor=\"left\",\n",
    "                  x=0),\n",
    "                font=dict(\n",
    "                family=\"Courier New, monospace\",\n",
    "                size=14,\n",
    "                color=\"Black\"\n",
    "            ),\n",
    "            title={\n",
    "                'text': \"Property (Scaled)\",\n",
    "                'y':0.85,\n",
    "                'x':0.5,\n",
    "                'xanchor': 'center',\n",
    "                'yanchor': 'top',\n",
    "                })\n",
    "            names = set()\n",
    "            self.prop_fig.for_each_trace(lambda trace:trace.update(showlegend=False) if (trace.name in names) else names.add(trace.name))\n",
    "            self.prop_fig.show()\n",
    "\n",
    "    def on_reset_button_clicked(self,b):\n",
    "        print('resetting')\n",
    "        for slider in self.objects:\n",
    "            slider.value = dict_of_props[slider.description]['value']\n",
    "        self.df.drop(self.df.index, inplace=True)\n",
    "        with self.output:\n",
    "            clear_output()\n",
    "        with self.prop_output:\n",
    "            clear_output()\n",
    "        self.fig.data = []\n",
    "        self.prop_fig.data = []"
   ]
  },
  {
   "cell_type": "code",
   "execution_count": 10,
   "metadata": {
    "ExecuteTime": {
     "end_time": "2023-05-11T18:57:30.612793Z",
     "start_time": "2023-05-11T18:57:30.586286Z"
    }
   },
   "outputs": [
    {
     "data": {
      "application/vnd.jupyter.widget-view+json": {
       "model_id": "ed37d193f8ba497b978cc496a928b22a",
       "version_major": 2,
       "version_minor": 0
      },
      "text/plain": [
       "VBox(children=(HBox(children=(VBox(children=(FloatSlider(value=-1.03, description='- DELTA_S/R', max=-0.28, mi…"
      ]
     },
     "metadata": {},
     "output_type": "display_data"
    },
    {
     "name": "stdout",
     "output_type": "stream",
     "text": [
      "initialized\n"
     ]
    },
    {
     "data": {
      "text/plain": [
       "<__main__.Demonstrator at 0x284848520>"
      ]
     },
     "execution_count": 10,
     "metadata": {},
     "output_type": "execute_result"
    },
    {
     "name": "stdout",
     "output_type": "stream",
     "text": [
      "generating\n"
     ]
    },
    {
     "ename": "KeyError",
     "evalue": "224",
     "output_type": "error",
     "traceback": [
      "\u001B[0;31m---------------------------------------------------------------------------\u001B[0m",
      "\u001B[0;31mKeyError\u001B[0m                                  Traceback (most recent call last)",
      "Cell \u001B[0;32mIn[9], line 27\u001B[0m, in \u001B[0;36mDemonstrator.on_generate_button_clicked\u001B[0;34m(self, b)\u001B[0m\n\u001B[1;32m     25\u001B[0m \u001B[38;5;28;01mfor\u001B[39;00m i,sl \u001B[38;5;129;01min\u001B[39;00m \u001B[38;5;28menumerate\u001B[39m(\u001B[38;5;28mself\u001B[39m\u001B[38;5;241m.\u001B[39mobjects):\n\u001B[1;32m     26\u001B[0m     arr[i] \u001B[38;5;241m=\u001B[39m sl\u001B[38;5;241m.\u001B[39mvalue\n\u001B[0;32m---> 27\u001B[0m data \u001B[38;5;241m=\u001B[39m \u001B[43mgenerate_alloy\u001B[49m\u001B[43m(\u001B[49m\u001B[43marr\u001B[49m\u001B[43m)\u001B[49m\n\u001B[1;32m     28\u001B[0m \u001B[38;5;28mself\u001B[39m\u001B[38;5;241m.\u001B[39mdf\u001B[38;5;241m.\u001B[39mloc[\u001B[38;5;28mlen\u001B[39m(\u001B[38;5;28mself\u001B[39m\u001B[38;5;241m.\u001B[39mdf)]\u001B[38;5;241m=\u001B[39mdata\n\u001B[1;32m     30\u001B[0m compositionString \u001B[38;5;241m=\u001B[39m \u001B[38;5;124m'\u001B[39m\u001B[38;5;124m \u001B[39m\u001B[38;5;124m'\u001B[39m\u001B[38;5;241m.\u001B[39mjoin([\u001B[38;5;124mf\u001B[39m\u001B[38;5;124m'\u001B[39m\u001B[38;5;132;01m{\u001B[39;00mel\u001B[38;5;132;01m}\u001B[39;00m\u001B[38;5;132;01m{\u001B[39;00m\u001B[38;5;28mround\u001B[39m(Composition(data[\u001B[38;5;124m\"\u001B[39m\u001B[38;5;124mComposition\u001B[39m\u001B[38;5;124m\"\u001B[39m])\u001B[38;5;241m.\u001B[39mas_dict()[el])\u001B[38;5;132;01m:\u001B[39;00m\u001B[38;5;124m<2\u001B[39m\u001B[38;5;132;01m}\u001B[39;00m\u001B[38;5;124m'\u001B[39m \u001B[38;5;28;01mif\u001B[39;00m el \u001B[38;5;129;01min\u001B[39;00m Composition(data[\u001B[38;5;124m'\u001B[39m\u001B[38;5;124mComposition\u001B[39m\u001B[38;5;124m'\u001B[39m])\u001B[38;5;241m.\u001B[39mas_dict() \u001B[38;5;28;01melse\u001B[39;00m \u001B[38;5;124m'\u001B[39m\u001B[38;5;124m    \u001B[39m\u001B[38;5;124m'\u001B[39m \u001B[38;5;28;01mfor\u001B[39;00m el \u001B[38;5;129;01min\u001B[39;00m elem_list])\n",
      "Cell \u001B[0;32mIn[8], line 16\u001B[0m, in \u001B[0;36mgenerate_alloy\u001B[0;34m(prop_arr)\u001B[0m\n\u001B[1;32m     14\u001B[0m         dict_generated[prop] \u001B[38;5;241m=\u001B[39m calculate_entropy_mixing(composition)\u001B[38;5;241m.\u001B[39mitem()\n\u001B[1;32m     15\u001B[0m     \u001B[38;5;28;01melse\u001B[39;00m:\n\u001B[0;32m---> 16\u001B[0m         model_surrogate \u001B[38;5;241m=\u001B[39m \u001B[43mload\u001B[49m\u001B[43m(\u001B[49m\u001B[38;5;124;43mf\u001B[39;49m\u001B[38;5;124;43m'\u001B[39;49m\u001B[38;5;124;43mheagan/saved_surrogates/surrogate_\u001B[39;49m\u001B[38;5;132;43;01m{\u001B[39;49;00m\u001B[43mprop\u001B[49m\u001B[38;5;132;43;01m}\u001B[39;49;00m\u001B[38;5;124;43m.joblib\u001B[39;49m\u001B[38;5;124;43m'\u001B[39;49m\u001B[43m)\u001B[49m\n\u001B[1;32m     17\u001B[0m         dict_generated[prop] \u001B[38;5;241m=\u001B[39m model_surrogate\u001B[38;5;241m.\u001B[39mpredict(generated)\u001B[38;5;241m.\u001B[39mitem()\n\u001B[1;32m     18\u001B[0m \u001B[38;5;28;01mreturn\u001B[39;00m dict_generated\n",
      "File \u001B[0;32m~/opt/anaconda3/envs/cGAN/lib/python3.10/site-packages/joblib/numpy_pickle.py:587\u001B[0m, in \u001B[0;36mload\u001B[0;34m(filename, mmap_mode)\u001B[0m\n\u001B[1;32m    581\u001B[0m             \u001B[38;5;28;01mif\u001B[39;00m \u001B[38;5;28misinstance\u001B[39m(fobj, \u001B[38;5;28mstr\u001B[39m):\n\u001B[1;32m    582\u001B[0m                 \u001B[38;5;66;03m# if the returned file object is a string, this means we\u001B[39;00m\n\u001B[1;32m    583\u001B[0m                 \u001B[38;5;66;03m# try to load a pickle file generated with an version of\u001B[39;00m\n\u001B[1;32m    584\u001B[0m                 \u001B[38;5;66;03m# Joblib so we load it with joblib compatibility function.\u001B[39;00m\n\u001B[1;32m    585\u001B[0m                 \u001B[38;5;28;01mreturn\u001B[39;00m load_compatibility(fobj)\n\u001B[0;32m--> 587\u001B[0m             obj \u001B[38;5;241m=\u001B[39m \u001B[43m_unpickle\u001B[49m\u001B[43m(\u001B[49m\u001B[43mfobj\u001B[49m\u001B[43m,\u001B[49m\u001B[43m \u001B[49m\u001B[43mfilename\u001B[49m\u001B[43m,\u001B[49m\u001B[43m \u001B[49m\u001B[43mmmap_mode\u001B[49m\u001B[43m)\u001B[49m\n\u001B[1;32m    588\u001B[0m \u001B[38;5;28;01mreturn\u001B[39;00m obj\n",
      "File \u001B[0;32m~/opt/anaconda3/envs/cGAN/lib/python3.10/site-packages/joblib/numpy_pickle.py:506\u001B[0m, in \u001B[0;36m_unpickle\u001B[0;34m(fobj, filename, mmap_mode)\u001B[0m\n\u001B[1;32m    504\u001B[0m obj \u001B[38;5;241m=\u001B[39m \u001B[38;5;28;01mNone\u001B[39;00m\n\u001B[1;32m    505\u001B[0m \u001B[38;5;28;01mtry\u001B[39;00m:\n\u001B[0;32m--> 506\u001B[0m     obj \u001B[38;5;241m=\u001B[39m \u001B[43munpickler\u001B[49m\u001B[38;5;241;43m.\u001B[39;49m\u001B[43mload\u001B[49m\u001B[43m(\u001B[49m\u001B[43m)\u001B[49m\n\u001B[1;32m    507\u001B[0m     \u001B[38;5;28;01mif\u001B[39;00m unpickler\u001B[38;5;241m.\u001B[39mcompat_mode:\n\u001B[1;32m    508\u001B[0m         warnings\u001B[38;5;241m.\u001B[39mwarn(\u001B[38;5;124m\"\u001B[39m\u001B[38;5;124mThe file \u001B[39m\u001B[38;5;124m'\u001B[39m\u001B[38;5;132;01m%s\u001B[39;00m\u001B[38;5;124m'\u001B[39m\u001B[38;5;124m has been generated with a \u001B[39m\u001B[38;5;124m\"\u001B[39m\n\u001B[1;32m    509\u001B[0m                       \u001B[38;5;124m\"\u001B[39m\u001B[38;5;124mjoblib version less than 0.10. \u001B[39m\u001B[38;5;124m\"\u001B[39m\n\u001B[1;32m    510\u001B[0m                       \u001B[38;5;124m\"\u001B[39m\u001B[38;5;124mPlease regenerate this pickle file.\u001B[39m\u001B[38;5;124m\"\u001B[39m\n\u001B[1;32m    511\u001B[0m                       \u001B[38;5;241m%\u001B[39m filename,\n\u001B[1;32m    512\u001B[0m                       \u001B[38;5;167;01mDeprecationWarning\u001B[39;00m, stacklevel\u001B[38;5;241m=\u001B[39m\u001B[38;5;241m3\u001B[39m)\n",
      "File \u001B[0;32m~/opt/anaconda3/envs/cGAN/lib/python3.10/pickle.py:1213\u001B[0m, in \u001B[0;36m_Unpickler.load\u001B[0;34m(self)\u001B[0m\n\u001B[1;32m   1211\u001B[0m             \u001B[38;5;28;01mraise\u001B[39;00m \u001B[38;5;167;01mEOFError\u001B[39;00m\n\u001B[1;32m   1212\u001B[0m         \u001B[38;5;28;01massert\u001B[39;00m \u001B[38;5;28misinstance\u001B[39m(key, bytes_types)\n\u001B[0;32m-> 1213\u001B[0m         \u001B[43mdispatch\u001B[49m\u001B[43m[\u001B[49m\u001B[43mkey\u001B[49m\u001B[43m[\u001B[49m\u001B[38;5;241;43m0\u001B[39;49m\u001B[43m]\u001B[49m\u001B[43m]\u001B[49m(\u001B[38;5;28mself\u001B[39m)\n\u001B[1;32m   1214\u001B[0m \u001B[38;5;28;01mexcept\u001B[39;00m _Stop \u001B[38;5;28;01mas\u001B[39;00m stopinst:\n\u001B[1;32m   1215\u001B[0m     \u001B[38;5;28;01mreturn\u001B[39;00m stopinst\u001B[38;5;241m.\u001B[39mvalue\n",
      "\u001B[0;31mKeyError\u001B[0m: 224"
     ]
    }
   ],
   "source": [
    "Demonstrator()"
   ]
  },
  {
   "cell_type": "code",
   "execution_count": null,
   "metadata": {},
   "outputs": [],
   "source": []
  }
 ],
 "metadata": {
  "kernelspec": {
   "display_name": "Python [conda env:cGAN] *",
   "language": "python",
   "name": "conda-env-cGAN-py"
  },
  "language_info": {
   "codemirror_mode": {
    "name": "ipython",
    "version": 3
   },
   "file_extension": ".py",
   "mimetype": "text/x-python",
   "name": "python",
   "nbconvert_exporter": "python",
   "pygments_lexer": "ipython3",
   "version": "3.10.11"
  },
  "vscode": {
   "interpreter": {
    "hash": "1b0dbc48a483a77f6ac4bd7102c3cb6b89cd0e9716af2ce3a2d8ee940628ce1f"
   }
  }
 },
 "nbformat": 4,
 "nbformat_minor": 2
}
