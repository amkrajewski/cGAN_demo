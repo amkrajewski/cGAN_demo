{
 "cells": [
  {
   "cell_type": "code",
   "execution_count": 8,
   "metadata": {
    "ExecuteTime": {
     "start_time": "2023-06-02T22:52:21.290887Z",
     "end_time": "2023-06-02T22:52:21.294945Z"
    }
   },
   "outputs": [],
   "source": [
    "import torch\n",
    "import numpy as np\n",
    "import pandas as pd\n",
    "import json\n",
    "from ipywidgets import FloatSlider, Button, HBox, VBox, Output\n",
    "from IPython.display import clear_output\n",
    "from heagan.tools.cGAN_samplers import noise_sampler\n",
    "from heagan.tools.functions import decode, calculate_entropy_mixing\n",
    "from joblib import load\n",
    "import plotly.graph_objects as go\n",
    "import plotly.express as px\n",
    "from pymatgen.core import Composition\n",
    "from importlib import resources\n",
    "import onnxruntime"
   ]
  },
  {
   "cell_type": "code",
   "execution_count": 9,
   "metadata": {
    "ExecuteTime": {
     "start_time": "2023-06-02T22:52:21.573429Z",
     "end_time": "2023-06-02T22:52:21.591160Z"
    }
   },
   "outputs": [],
   "source": [
    "with resources.files('heagan.saved_cGAN').joinpath('generator.pt') as fname:\n",
    "    model = torch.jit.load(fname,map_location='cpu')\n",
    "with resources.files('heagan.saved_cGAN').joinpath('gan_hyperparameters.json').open('r') as f:\n",
    "    gan_hyperparameters = json.load(f)\n",
    "\n",
    "selected_props = gan_hyperparameters['selected_props']\n",
    "latent_dim = gan_hyperparameters['latent_dim']\n",
    "prop_dim = gan_hyperparameters['prop_dim']\n",
    "elem_list = gan_hyperparameters['elem_list']"
   ]
  },
  {
   "cell_type": "code",
   "execution_count": 10,
   "metadata": {
    "ExecuteTime": {
     "start_time": "2023-06-02T22:52:21.785224Z",
     "end_time": "2023-06-02T22:52:21.789927Z"
    }
   },
   "outputs": [],
   "source": [
    "with resources.files('heagan.saved_cGAN').joinpath('scale_kde_pipe.joblib') as fname:\n",
    "    scaler_pipe = load(fname)\n",
    "#with resources.files('heagan.saved_cGAN').joinpath('min_max_scaler.joblib') as fname:\n",
    "#    scaler_minmax = load(fname)"
   ]
  },
  {
   "cell_type": "code",
   "execution_count": 11,
   "metadata": {
    "ExecuteTime": {
     "start_time": "2023-06-02T22:52:22.008282Z",
     "end_time": "2023-06-02T22:52:22.044955Z"
    }
   },
   "outputs": [],
   "source": [
    "with resources.files('heagan.dataset').joinpath('demo_dataset_true.csv') as fname:\n",
    "    demo_df = pd.read_csv(fname,index_col=0)\n",
    "\n",
    "dict_of_props, dict_of_models = {}, {}\n",
    "\n",
    "units_dict = {'delta_S' : '- DELTA_S/R',\n",
    "              'd_param' : 'D PARAMETER',\n",
    "              'price' : 'PRICE ($/kg)',\n",
    "              'FT' : 'FT (MPa/m^0.5)',\n",
    "              'density' : 'DENSITY (g/cm^3)',\n",
    "              'hardness' : 'HARDNESS (GPa)',\n",
    "              'uts1200C' : 'UTS@1200C (GPa)'}\n",
    "\n",
    "scale_dict = {\n",
    "    'delta_S': 1/-2.19,\n",
    "    'd_param': 1/demo_df['d_param'].max(),\n",
    "    'price': 1/demo_df['price'].max(),\n",
    "    'FT': 1/demo_df['FT'].max(),\n",
    "    'density': 1/demo_df['density'].max(),\n",
    "    'hardness': 1/demo_df['hardness'].max(),\n",
    "    'uts1200C': 1/demo_df['uts1200C'].max()\n",
    "}\n",
    "\n",
    "style = {'description_width': 'initial', 'font_variant':\"small-caps\"}\n",
    "\n",
    "for p in selected_props:\n",
    "    vals = demo_df.loc[:,p].values\n",
    "    dict_of_props[units_dict[p]] = {'min':np.round(np.min(vals),2),\n",
    "                        'max':np.round(np.max(vals),2),\n",
    "                        'value':np.round((np.min(vals)+np.max(vals))/2,2),\n",
    "                        'step':0.01,\n",
    "                        'description':units_dict[p],\n",
    "                        'style' : style\n",
    "                        }\n",
    "    with resources.files('heagan.saved_surrogates').joinpath(f'surrogate_{p}.onnx') as fname:\n",
    "        dict_of_models.update({p: onnxruntime.InferenceSession(str(fname))})\n",
    "\n",
    "colors = px.colors.qualitative.Alphabet"
   ]
  },
  {
   "cell_type": "code",
   "execution_count": 12,
   "metadata": {
    "ExecuteTime": {
     "start_time": "2023-06-02T22:52:22.236436Z",
     "end_time": "2023-06-02T22:52:22.245586Z"
    }
   },
   "outputs": [],
   "source": [
    "def generate_alloy(prop_arr, model):\n",
    "    input_data = np.array(prop_arr).reshape(1,-1).astype('float32')\n",
    "    scaled_input = torch.from_numpy(scaler_pipe['Scaler'].transform(input_data))\n",
    "    noise = torch.from_numpy(noise_sampler(1,latent_dim))\n",
    "    with torch.no_grad():\n",
    "        generated = model(noise,scaled_input).numpy()\n",
    "    composition = decode(generated[0], elem_list)\n",
    "    dict_generated = {\n",
    "        'Composition':Composition({\n",
    "            el: frac*100 for el, frac in composition.as_dict().items()}).__str__(),\n",
    "            'composition_arr':generated[0]}\n",
    "    for i,prop in enumerate(selected_props):\n",
    "        if prop == 'delta_S':\n",
    "            val = calculate_entropy_mixing(composition).item()\n",
    "        else:\n",
    "            model = dict_of_models[prop]\n",
    "            pred = model.run([model.get_outputs()[0].name],\n",
    "                             {model.get_inputs()[0].name: generated})[0]\n",
    "            val = pred.flatten()[0]\n",
    "        dict_generated[prop] = val*scale_dict[prop]\n",
    "    return dict_generated\n"
   ]
  },
  {
   "cell_type": "code",
   "execution_count": 13,
   "metadata": {
    "ExecuteTime": {
     "start_time": "2023-06-02T22:52:22.470467Z",
     "end_time": "2023-06-02T22:52:22.474351Z"
    }
   },
   "outputs": [],
   "source": [
    "class Demonstrator:\n",
    "    def __init__(self):\n",
    "        self.objects = [FloatSlider(**params) for params in dict_of_props.values()]\n",
    "        self.reset_button = Button(description='Reset',disabled=False,button_style='',tooltip='Reset the slider values')\n",
    "        self.reset_button.on_click(self.on_reset_button_clicked)\n",
    "        self.generate_button = Button(description='Generate',disabled=False,button_style='',tooltip='Generate HEA composition with selected conditions')\n",
    "        self.generate_button.on_click(self.on_generate_button_clicked)\n",
    "        self.output = Output()\n",
    "        self.prop_output = Output()\n",
    "        controls_one = VBox([*self.objects[:3]])\n",
    "        controls_two = VBox([*self.objects[3:]])\n",
    "        controls = HBox([controls_one, controls_two])\n",
    "        buttons = HBox([self.reset_button, self.generate_button])\n",
    "        outputs = HBox([self.output,self.prop_output])\n",
    "        display(VBox([controls,buttons, outputs]))\n",
    "        self.fig = go.Figure()\n",
    "        self.prop_fig = go.Figure()\n",
    "        self.df = pd.DataFrame(columns=demo_df.columns)\n",
    "        print('Demonstrator Initialized!')\n",
    "\n",
    "\n",
    "    def on_generate_button_clicked(self,b):\n",
    "        arr = np.zeros(len(self.objects))\n",
    "        for i,sl in enumerate(self.objects):\n",
    "            arr[i] = sl.value\n",
    "        data = generate_alloy(arr, model)\n",
    "        self.df.loc[len(self.df)]=data\n",
    "\n",
    "        compositionString = ' '.join([f'{el}{round(Composition(data[\"Composition\"]).as_dict()[el]):<2}' if el in Composition(data['Composition']).as_dict() else '    ' for el in elem_list])\n",
    "        #composition\n",
    "        with self.output:\n",
    "            clear_output(True)\n",
    "            self.fig.add_trace(go.Scatterpolar(\n",
    "            r=data['composition_arr'],\n",
    "            theta=elem_list,\n",
    "            name=compositionString,\n",
    "            fill='toself',\n",
    "            opacity=0.75,\n",
    "            showlegend = True\n",
    "                ))\n",
    "\n",
    "            self.fig.update_layout(\n",
    "                width = 500,\n",
    "                height = 600,\n",
    "                legend=dict(\n",
    "                  orientation = \"h\",\n",
    "                  yanchor=\"bottom\",\n",
    "                  y=-1.1,\n",
    "                  xanchor=\"left\",\n",
    "                  x=0),\n",
    "                font=dict(\n",
    "                family=\"Courier New, monospace\",\n",
    "                size=14,\n",
    "                color=\"Black\"\n",
    "            ),\n",
    "            title={\n",
    "        'text': \"Composition\",\n",
    "        'y':0.9,\n",
    "        'x':0.5,\n",
    "        'xanchor': 'center',\n",
    "        'yanchor': 'top'})\n",
    "            names = set()\n",
    "            self.fig.for_each_trace(lambda trace:trace.update(showlegend=False) if (trace.name in names) else names.add(trace.name))\n",
    "            self.fig.show()\n",
    "\n",
    "        #properties\n",
    "        with self.prop_output:\n",
    "            clear_output(True)\n",
    "            self.prop_fig.data = []\n",
    "            for i in range(self.df.shape[0]):\n",
    "\n",
    "                self.prop_fig.add_trace(go.Scatterpolar(\n",
    "                r=self.df.iloc[i,1:].values,\n",
    "                theta=selected_props,\n",
    "                fill='toself',\n",
    "                opacity=0.75,\n",
    "                showlegend = False,\n",
    "                hovertext=[f'Value: {str(np.round(x,2))}' for x in self.df.iloc[i,1:].values]\n",
    "                ))\n",
    "\n",
    "            self.prop_fig.update_layout(\n",
    "            width = 400,\n",
    "            height = 400,\n",
    "            legend=dict(\n",
    "                  orientation = \"h\",\n",
    "                  yanchor=\"bottom\",\n",
    "                  y=-1.1,\n",
    "                  xanchor=\"left\",\n",
    "                  x=0),\n",
    "                font=dict(\n",
    "                family=\"Courier New, monospace\",\n",
    "                size=14,\n",
    "                color=\"Black\"\n",
    "            ),\n",
    "            title={\n",
    "                'text': \"Property (Scaled)\",\n",
    "                'y':0.85,\n",
    "                'x':0.5,\n",
    "                'xanchor': 'center',\n",
    "                'yanchor': 'top',\n",
    "                })\n",
    "            names = set()\n",
    "            self.prop_fig.for_each_trace(lambda trace:trace.update(showlegend=False) if (trace.name in names) else names.add(trace.name))\n",
    "            self.prop_fig.show()\n",
    "\n",
    "    def on_reset_button_clicked(self,b):\n",
    "        for slider in self.objects:\n",
    "            slider.value = dict_of_props[slider.description]['value']\n",
    "        self.df.drop(self.df.index, inplace=True)\n",
    "        with self.output:\n",
    "            clear_output()\n",
    "        with self.prop_output:\n",
    "            clear_output()\n",
    "        self.fig.data = []\n",
    "        self.prop_fig.data = []"
   ]
  },
  {
   "cell_type": "code",
   "execution_count": 14,
   "metadata": {
    "ExecuteTime": {
     "start_time": "2023-06-02T22:52:22.681640Z",
     "end_time": "2023-06-02T22:52:22.704413Z"
    }
   },
   "outputs": [
    {
     "data": {
      "text/plain": "VBox(children=(HBox(children=(VBox(children=(FloatSlider(value=-1.03, description='- DELTA_S/R', max=-0.28, mi…",
      "application/vnd.jupyter.widget-view+json": {
       "version_major": 2,
       "version_minor": 0,
       "model_id": "fb05d970719447049fc1605e1f851e86"
      }
     },
     "metadata": {},
     "output_type": "display_data"
    },
    {
     "name": "stdout",
     "output_type": "stream",
     "text": [
      "Demonstrator Initialized!\n"
     ]
    },
    {
     "data": {
      "text/plain": "<__main__.Demonstrator at 0x1691de440>"
     },
     "execution_count": 14,
     "metadata": {},
     "output_type": "execute_result"
    }
   ],
   "source": [
    "Demonstrator()"
   ]
  },
  {
   "cell_type": "code",
   "execution_count": 14,
   "metadata": {
    "ExecuteTime": {
     "start_time": "2023-06-02T22:52:22.923041Z",
     "end_time": "2023-06-02T22:52:22.925259Z"
    }
   },
   "outputs": [],
   "source": []
  },
  {
   "cell_type": "code",
   "execution_count": null,
   "outputs": [],
   "source": [],
   "metadata": {
    "collapsed": false
   }
  }
 ],
 "metadata": {
  "kernelspec": {
   "display_name": "Python 3 (ipykernel)",
   "language": "python",
   "name": "python3"
  },
  "language_info": {
   "codemirror_mode": {
    "name": "ipython",
    "version": 3
   },
   "file_extension": ".py",
   "mimetype": "text/x-python",
   "name": "python",
   "nbconvert_exporter": "python",
   "pygments_lexer": "ipython3",
   "version": "3.10.11"
  },
  "vscode": {
   "interpreter": {
    "hash": "1b0dbc48a483a77f6ac4bd7102c3cb6b89cd0e9716af2ce3a2d8ee940628ce1f"
   }
  }
 },
 "nbformat": 4,
 "nbformat_minor": 2
}
