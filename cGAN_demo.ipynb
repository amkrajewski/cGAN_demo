{
 "cells": [
  {
   "cell_type": "code",
   "execution_count": 1,
   "metadata": {},
   "outputs": [],
   "source": [
    "import torch\n",
    "import numpy as np\n",
    "import pandas as pd\n",
    "import json\n",
    "from ipywidgets import interact\n",
    "from joblib import load\n",
    "from modules.cGAN_samplers import noise_sampler\n",
    "from modules.functions import decode, calculate_entropy_mixing"
   ]
  },
  {
   "cell_type": "code",
   "execution_count": 8,
   "metadata": {},
   "outputs": [],
   "source": [
    "model = torch.jit.load('saved_cGAN/generator.pt',map_location='cpu')\n",
    "with open('saved_cGAN/gan_hyperparameters.json','r') as fid:\n",
    "    gan_hyperparameters = json.load(fid)\n",
    "selected_props = gan_hyperparameters['selected_props']\n",
    "latent_dim = gan_hyperparameters['latent_dim']\n",
    "prop_dim = gan_hyperparameters['prop_dim']\n",
    "elem_list = gan_hyperparameters['elem_list']\n",
    "\n",
    "scaler_pipe = load('saved_cGAN/scale_kde_pipe.joblib')"
   ]
  },
  {
   "cell_type": "code",
   "execution_count": 9,
   "metadata": {},
   "outputs": [
    {
     "data": {
      "application/vnd.jupyter.widget-view+json": {
       "model_id": "f591fee738804de2b5fd97ae44bd29fc",
       "version_major": 2,
       "version_minor": 0
      },
      "text/plain": [
       "interactive(children=(FloatSlider(value=-1.1099999999999999, description='DELTA_S', max=-0.2, min=-2.0, step=0…"
      ]
     },
     "metadata": {},
     "output_type": "display_data"
    }
   ],
   "source": [
    "@interact(DELTA_S =(-2, -0.2,0.01), D_PARAM=(1, 4,0.01), PRICE = (10, 800),FT = (4,22,0.01),DENSITY=(5,20,0.01),HARDNESS=(0.1,10,0.01),UTS1200C = (0.1,2,0.01))\n",
    "def predict_house_price(DELTA_S,D_PARAM,PRICE,FT,DENSITY,HARDNESS,UTS1200C):\n",
    "    input_data = np.array([[DELTA_S,D_PARAM,PRICE,FT,DENSITY,HARDNESS,UTS1200C]]).reshape(1,-1).astype('float32')\n",
    "    scaled_input = torch.from_numpy(scaler_pipe['Scaler'].transform(input_data))\n",
    "    noise = torch.from_numpy(noise_sampler(1,latent_dim))\n",
    "    with torch.no_grad():\n",
    "        generated = model(noise,scaled_input)\n",
    "    composition = decode(generated[0], elem_list)\n",
    "    res = np.zeros((1,len(selected_props)))\n",
    "    for i,prop in enumerate(selected_props):\n",
    "        if prop == 'delta_S':\n",
    "            res[:,0] = calculate_entropy_mixing(composition)\n",
    "        else:\n",
    "            model_surrogate = load(f'saved_surrogates/surrogate_{prop}.joblib')\n",
    "            res[:,i] = model_surrogate.predict(generated.numpy())\n",
    "\n",
    "    print(f'Generated composition with given conditions : {composition}')\n",
    "    print(pd.DataFrame(res, columns=selected_props))\n"
   ]
  }
 ],
 "metadata": {
  "kernelspec": {
   "display_name": "cGAN_demo",
   "language": "python",
   "name": "python3"
  },
  "language_info": {
   "codemirror_mode": {
    "name": "ipython",
    "version": 3
   },
   "file_extension": ".py",
   "mimetype": "text/x-python",
   "name": "python",
   "nbconvert_exporter": "python",
   "pygments_lexer": "ipython3",
   "version": "3.10.9"
  },
  "orig_nbformat": 4,
  "vscode": {
   "interpreter": {
    "hash": "b40744dbde6c210ab1aaeef97314464a6b1758ba8f2aef4278607ae1aa0393a1"
   }
  }
 },
 "nbformat": 4,
 "nbformat_minor": 2
}
