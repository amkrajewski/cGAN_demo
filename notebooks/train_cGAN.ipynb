{
 "cells": [
  {
   "cell_type": "code",
   "execution_count": 1,
   "metadata": {},
   "outputs": [],
   "source": [
    "import os\n",
    "import sys\n",
    "module_path = os.path.abspath(os.path.join('..'))\n",
    "if module_path not in sys.path:\n",
    "    sys.path.append(module_path)\n",
    "os.chdir('..')"
   ]
  },
  {
   "cell_type": "code",
   "execution_count": 2,
   "metadata": {},
   "outputs": [],
   "source": [
    "import pandas as pd\n",
    "import numpy as np\n",
    "import torch\n",
    "import torch.nn as nn\n",
    "from sklearn.pipeline import Pipeline\n",
    "from sklearn.neighbors import KernelDensity\n",
    "from sklearn.preprocessing import StandardScaler, QuantileTransformer\n",
    "from modules.functions import pymatgen_comp, data_generator, check_cuda\n",
    "from modules.generative_models import Generator, Discriminator\n",
    "from joblib import dump\n",
    "from modules.cGAN_samplers import noise_sampler, prop_sampler\n",
    "from modules.plotting import plot\n",
    "import json"
   ]
  },
  {
   "cell_type": "code",
   "execution_count": 3,
   "metadata": {},
   "outputs": [
    {
     "data": {
      "text/plain": [
       "['saved_cGAN/scale_kde_pipe.joblib']"
      ]
     },
     "execution_count": 3,
     "metadata": {},
     "output_type": "execute_result"
    }
   ],
   "source": [
    "demo_df = pd.read_csv('dataset/demo_dataset_true.csv',index_col = 0)\n",
    "comps = pymatgen_comp(demo_df['Composition'].values)\n",
    "dset = data_generator(comps, use_all_eles=False)\n",
    "props = demo_df.iloc[:,1:].values.astype('float32')\n",
    "prop_names = list(demo_df.columns[1:])\n",
    "scaling_pipe = Pipeline([('Scaler',QuantileTransformer(output_distribution='normal')),('KDE',KernelDensity(kernel='gaussian',bandwidth=0.5))])\n",
    "scaling_pipe.fit(props)\n",
    "scaled_props = scaling_pipe['Scaler'].transform(props)\n",
    "dump(scaling_pipe,'saved_cGAN/scale_kde_pipe.joblib')"
   ]
  },
  {
   "cell_type": "code",
   "execution_count": 4,
   "metadata": {},
   "outputs": [],
   "source": [
    "batch_size = 512\n",
    "minibatch_size = batch_size\n",
    "prop_dim = scaled_props.shape[1]\n",
    "latent_dim = 4\n",
    "gen_in = latent_dim + prop_dim\n",
    "hidden = gen_in*2\n",
    "n_hidden = 3\n",
    "gen_out = dset.size\n",
    "generator = Generator(gen_in,n_hidden,hidden,gen_out)\n",
    "discriminator = Discriminator(gen_out+prop_dim,n_hidden,hidden,1)\n",
    "optim_betas = (0.5, 0.999)\n",
    "generator_optimizer = torch.optim.Adam(generator.parameters(), lr=0.001,betas=optim_betas)\n",
    "discriminator_optimizer = torch.optim.Adam(discriminator.parameters(), lr=0.001,betas=optim_betas)\n",
    "cuda = check_cuda()\n",
    "if cuda:\n",
    "    generator = generator.cuda()\n",
    "    discriminator = discriminator.cuda()\n",
    "loss = nn.BCELoss()\n",
    "d_steps = 1\n",
    "g_steps = 1\n",
    "prefix = 'Epoch'\n",
    "num_iterations = int(2e4)\n",
    "log_interval = int(5e2)"
   ]
  },
  {
   "cell_type": "code",
   "execution_count": 5,
   "metadata": {},
   "outputs": [],
   "source": [
    "def d_loop():\n",
    "  discriminator_optimizer.zero_grad()\n",
    "  train_data, train_idx = dset.sample(batch_size)\n",
    "  train_prop = scaled_props[train_idx]\n",
    "  d_real_data = torch.from_numpy(train_data)\n",
    "  d_real_prop = torch.from_numpy(train_prop)\n",
    "  if cuda:\n",
    "        d_real_data = d_real_data.cuda()\n",
    "        d_real_prop = d_real_prop.cuda()\n",
    "  \n",
    "  true_discriminator_out = discriminator(d_real_data,d_real_prop)\n",
    "  true_labels = torch.ones_like(true_discriminator_out)\n",
    "  true_discriminator_loss = loss(true_discriminator_out, true_labels)\n",
    "\n",
    "\n",
    "  d_gen_input = torch.from_numpy(noise_sampler(batch_size, latent_dim))\n",
    "\n",
    "  if cuda:\n",
    "        d_gen_input = d_gen_input.cuda()\n",
    "  with torch.no_grad():\n",
    "        generated_data = generator(d_gen_input,d_real_prop)\n",
    "  \n",
    "  generator_discriminator_out = discriminator(generated_data.detach(),d_real_prop)\n",
    "  generator_discriminator_loss = loss(generator_discriminator_out, torch.zeros_like(generator_discriminator_out))\n",
    "  discriminator_loss = (true_discriminator_loss + generator_discriminator_loss) / 2\n",
    "  discriminator_loss.backward()\n",
    "  discriminator_optimizer.step()"
   ]
  },
  {
   "cell_type": "code",
   "execution_count": 6,
   "metadata": {},
   "outputs": [],
   "source": [
    "def g_loop():\n",
    "  generator_optimizer.zero_grad()\n",
    "  \n",
    "  d_gen_input = torch.from_numpy(noise_sampler(batch_size, latent_dim))\n",
    "  d_gen_prop = prop_sampler(batch_size,prop_dim,'kde')\n",
    "  d_gen_prop =  torch.from_numpy(d_gen_prop)#sample between lowest and highest LC values, uniform \n",
    "  if cuda:\n",
    "        d_gen_input = d_gen_input.cuda()\n",
    "        d_gen_prop = d_gen_prop.cuda()\n",
    "  generated_data = generator(d_gen_input,d_gen_prop)\n",
    "  generator_discriminator_out = discriminator(generated_data,d_gen_prop)\n",
    "  true_labels = torch.ones_like(generator_discriminator_out)\n",
    "  generator_loss = loss(generator_discriminator_out, true_labels)\n",
    "  generator_loss.backward()\n",
    "  generator_optimizer.step()"
   ]
  },
  {
   "cell_type": "code",
   "execution_count": 7,
   "metadata": {},
   "outputs": [],
   "source": [
    "def g_sample():\n",
    "    with torch.no_grad():\n",
    "        gen_input = torch.from_numpy(noise_sampler(minibatch_size, latent_dim))\n",
    "        #prop_input = np.random.uniform(max,min,(minibatch_size,prop_dim)).astype('float32')\n",
    "        prop_input = prop_sampler(minibatch_size,prop_dim,'kde')\n",
    "        prop_input =  torch.from_numpy(prop_input)\n",
    "        if cuda:\n",
    "            gen_input = gen_input.cuda()\n",
    "            prop_input = prop_input.cuda()\n",
    "        g_fake_data = generator(gen_input,prop_input)\n",
    "        return g_fake_data.cpu().numpy()"
   ]
  },
  {
   "cell_type": "code",
   "execution_count": null,
   "metadata": {},
   "outputs": [],
   "source": [
    "samples = []\n",
    "for it in range(num_iterations):\n",
    "    d_infos = []\n",
    "    for d_index in range(d_steps):\n",
    "        d_loop()\n",
    "    for g_index in range(g_steps):\n",
    "        g_loop()\n",
    "    \n",
    "    if it == 0 or (it + 1) % log_interval == 0:\n",
    "        g_fake_data = g_sample()\n",
    "        samples.append(g_fake_data)\n",
    "        plot(g_fake_data, title='[{}] Iteration {}'.format(prefix, it+1),dset = dset)\n",
    "        train_epoch = it+1"
   ]
  },
  {
   "cell_type": "code",
   "execution_count": 37,
   "metadata": {},
   "outputs": [],
   "source": [
    "gan_hyperparameters = {\n",
    "    'latent_dim' : latent_dim,\n",
    "    'selected_props':prop_names,\n",
    "    'prop_dim' : prop_dim,\n",
    "    'elem_list':dset.elements.tolist()\n",
    "}\n",
    "\n",
    "with open('saved_cGAN/gan_hyperparameters.json','w') as fid:\n",
    "    json.dump(gan_hyperparameters,fid)\n",
    "\n",
    "model_scripted = torch.jit.script(generator.cpu())\n",
    "model_scripted.save('saved_cGAN/generator.pt')"
   ]
  },
  {
   "cell_type": "code",
   "execution_count": 9,
   "metadata": {},
   "outputs": [],
   "source": [
    "n = 500\n",
    "noise = torch.from_numpy(noise_sampler(n, latent_dim))\n",
    "props = torch.from_numpy(scaling_pipe['KDE'].sample(n).astype('float32'))\n",
    "if cuda:\n",
    "    noise = noise.cuda()\n",
    "    props = props.cuda()\n",
    "with torch.no_grad():\n",
    "    generated = generator(noise,props)"
   ]
  },
  {
   "cell_type": "code",
   "execution_count": 10,
   "metadata": {},
   "outputs": [],
   "source": [
    "from modules.functions import calculate_entropy_mixing, decode\n",
    "from joblib import load\n",
    "res = np.zeros((n,len(prop_names)))\n",
    "for i,prop in enumerate(prop_names):\n",
    "    decoded_comps = [decode(x,dset.elements) for x in generated.numpy()]\n",
    "    if prop == 'delta_S':\n",
    "        res[:,0] = [calculate_entropy_mixing(x) for x in decoded_comps]\n",
    "    else:\n",
    "        model = load(f'saved_surrogates/surrogate_{prop}.joblib')\n",
    "        res[:,i] = model.predict(generated.numpy())\n",
    "\n",
    "#generated"
   ]
  },
  {
   "cell_type": "code",
   "execution_count": null,
   "metadata": {},
   "outputs": [],
   "source": [
    "import matplotlib.pyplot as plt\n",
    "from sklearn.metrics import mean_squared_error\n",
    "fig,ax = plt.subplots(2,4,figsize = (10,5))\n",
    "ax = ax.ravel()\n",
    "for i in range(len(prop_names)):\n",
    "    ax[i].scatter(res[:,i], scaling_pipe['Scaler'].inverse_transform(props.to('cpu').detach().numpy())[:,i])\n",
    "    print(mean_squared_error(res[:,i], scaling_pipe['Scaler'].inverse_transform(props.to('cpu').detach().numpy())[:,i]))"
   ]
  },
  {
   "cell_type": "code",
   "execution_count": null,
   "metadata": {},
   "outputs": [],
   "source": []
  }
 ],
 "metadata": {
  "kernelspec": {
   "display_name": "cGAN_demo",
   "language": "python",
   "name": "python3"
  },
  "language_info": {
   "codemirror_mode": {
    "name": "ipython",
    "version": 3
   },
   "file_extension": ".py",
   "mimetype": "text/x-python",
   "name": "python",
   "nbconvert_exporter": "python",
   "pygments_lexer": "ipython3",
   "version": "3.10.9"
  },
  "orig_nbformat": 4,
  "vscode": {
   "interpreter": {
    "hash": "b40744dbde6c210ab1aaeef97314464a6b1758ba8f2aef4278607ae1aa0393a1"
   }
  }
 },
 "nbformat": 4,
 "nbformat_minor": 2
}
